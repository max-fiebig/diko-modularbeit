{
 "cells": [
  {
   "cell_type": "markdown",
   "metadata": {},
   "source": [
    "## Methodische & Digitale Kompetenz (DIKO) - Modularbeit Eigenleistung - SS 2024 - Maximilian Fiebig\n",
    "## Experiment Systemprompt"
   ]
  },
  {
   "cell_type": "markdown",
   "metadata": {},
   "source": [
    "#### Installation von OpenAI-Bibliothek (https://pypi.org/project/openai/)"
   ]
  },
  {
   "cell_type": "code",
   "execution_count": 1,
   "metadata": {},
   "outputs": [
    {
     "name": "stdout",
     "output_type": "stream",
     "text": [
      "Requirement already satisfied: openai in /opt/conda/lib/python3.10/site-packages (1.34.0)\n",
      "Requirement already satisfied: python-dotenv in /opt/conda/lib/python3.10/site-packages (1.0.1)\n",
      "Requirement already satisfied: typing-extensions<5,>=4.7 in /opt/conda/lib/python3.10/site-packages (from openai) (4.12.2)\n",
      "Requirement already satisfied: pydantic<3,>=1.9.0 in /opt/conda/lib/python3.10/site-packages (from openai) (1.10.2)\n",
      "Requirement already satisfied: sniffio in /opt/conda/lib/python3.10/site-packages (from openai) (1.3.0)\n",
      "Requirement already satisfied: anyio<5,>=3.5.0 in /opt/conda/lib/python3.10/site-packages (from openai) (3.6.1)\n",
      "Requirement already satisfied: distro<2,>=1.7.0 in /opt/conda/lib/python3.10/site-packages (from openai) (1.9.0)\n",
      "Requirement already satisfied: tqdm>4 in /opt/conda/lib/python3.10/site-packages (from openai) (4.64.1)\n",
      "Requirement already satisfied: httpx<1,>=0.23.0 in /opt/conda/lib/python3.10/site-packages (from openai) (0.27.0)\n",
      "Requirement already satisfied: idna>=2.8 in /opt/conda/lib/python3.10/site-packages (from anyio<5,>=3.5.0->openai) (3.4)\n",
      "Requirement already satisfied: httpcore==1.* in /opt/conda/lib/python3.10/site-packages (from httpx<1,>=0.23.0->openai) (1.0.5)\n",
      "Requirement already satisfied: certifi in /opt/conda/lib/python3.10/site-packages (from httpx<1,>=0.23.0->openai) (2022.9.24)\n",
      "Requirement already satisfied: h11<0.15,>=0.13 in /opt/conda/lib/python3.10/site-packages (from httpcore==1.*->httpx<1,>=0.23.0->openai) (0.14.0)\n",
      "Note: you may need to restart the kernel to use updated packages.\n"
     ]
    }
   ],
   "source": [
    "pip install openai python-dotenv"
   ]
  },
  {
   "cell_type": "markdown",
   "metadata": {},
   "source": [
    "#### Erstellung der Azure OpenAI-Instanz (https://learn.microsoft.com/de-de/azure/ai-services/openai/how-to/switching-endpoints#api-key)\n",
    "- Der API KEY ist ähnlich wie ein Passwort\n",
    "- Man speichert ihn in einer externen .env-Datei, damit niemand den Key im Code sehen kann\n",
    "- Die API-Version ist die genaue Spezifikation/Anleitung, damit die Bibliothek genau weiß, wie das JSON formatiert werden muss. Sie ändert sich durch Updates, deswegen muss sie mit angegeben werden. Die Version 2024-02-01 ist die von MUCGPT genutze Version bei Azure. (https://learn.microsoft.com/en-gb/azure/ai-services/openai/api-version-deprecation#latest-ga-api-release)"
   ]
  },
  {
   "cell_type": "code",
   "execution_count": 2,
   "metadata": {},
   "outputs": [],
   "source": [
    "from dotenv import load_dotenv\n",
    "from openai import AzureOpenAI\n",
    "\n",
    "load_dotenv() #Laden der externen .env-Datei, in der API-Key und Azure Endpoint gespeichert sind.\n",
    "\n",
    "client = AzureOpenAI(\n",
    "    api_key=os.getenv(\"AZURE_OPENAI_API_KEY\"),  \n",
    "    api_version=\"2024-02-01\",\n",
    "    azure_endpoint=os.getenv(\"AZURE_OPENAI_ENDPOINT\")\n",
    ")"
   ]
  },
  {
   "cell_type": "markdown",
   "metadata": {},
   "source": [
    "Chat Completions API-Aufruf: https://platform.openai.com/docs/guides/text-generation/chat-completions-api\n",
    "\n",
    "- Temperature: Im Prompting bestimmt die Temperatur die Gewichtung von Kreativität in den Antworten der KI. Sie kann auch die Konsistenz und Vorhersehbarkeit der KI-Antworten beeinflussen. Eine niedrigere Temperatur führt dazu, dass die KI eher Wörter wählt, die wahrscheinlicher sind, und die Antworten beim gleichen Prompt sich ähnlich sind. Näheres dazu wird in der MUCGPT_temperature.ipynb Datei erläutert."
   ]
  },
  {
   "cell_type": "code",
   "execution_count": 3,
   "metadata": {},
   "outputs": [],
   "source": [
    "response = client.chat.completions.create(\n",
    "  model=\"chat\", # 'Chat' ist das zugehörige Deployment bei Azure, dahinter liegt gpt-3.5-turbo.\n",
    "  messages=[\n",
    "    {\"role\": \"system\", \"content\": \"Du bist ein Experte für Baustoffkunde.\"}, # Anweisung an das Sprachmodell, optional\n",
    "    {\"role\": \"user\", \"content\": \"Was sind die Bestandteile von Beton?\"} # Frage von Nutzer an das Sprachmodell\n",
    "  ], \n",
    "  temperature=1 # Steuerung der Kreativität\n",
    ")"
   ]
  },
  {
   "cell_type": "code",
   "execution_count": 4,
   "metadata": {},
   "outputs": [
    {
     "name": "stdout",
     "output_type": "stream",
     "text": [
      "Die Bestandteile von Beton sind Zement, Wasser, Gesteinskörnung (Sand, Kies oder Schotter) und gegebenenfalls Zusatzstoffe wie beispielsweise Chemikalien zur Verbesserung der Verarbeitbarkeit oder der Festigkeit. Zusammen ergeben diese Bestandteile eine homogene Masse, die nach dem Aushärten eine hohe Festigkeit aufweist und für den Bau von Gebäuden, Straßen, Brücken und vielen anderen Konstruktionen genutzt werden kann.\n"
     ]
    }
   ],
   "source": [
    "print(response.choices[0].message.content) # Ausgabe der Antwort des Chatmodells"
   ]
  },
  {
   "cell_type": "markdown",
   "metadata": {},
   "source": [
    "#### Importieren der .txt-Datei mit Fragen"
   ]
  },
  {
   "cell_type": "code",
   "execution_count": 5,
   "metadata": {},
   "outputs": [
    {
     "name": "stdout",
     "output_type": "stream",
     "text": [
      "['Wie viel wiegt 1m³ Beton?\\n', 'Gibt es klimaneutrale Baustoffe?\\n', 'Welche Eigenschaften hat Asphalt?\\n', 'Wie wird ein Ziegelstein hergestellt?\\n', 'Kann man eine Straße aus Beton bauen?\\n', 'Aus welchem Baustoff bestehen Brücken?\\n', 'Wie sieht die Rezyklierbarkeit von Beton aus?\\n', 'Ist Stahl ein guter Baustoff für U-Bahngleise?\\n', 'Ist es möglich, ein Haus aus dem Baustoff Holz zu bauen?\\n', 'Welches Material wird für den Einsatz in Hochbauten eingesetzt?']\n"
     ]
    }
   ],
   "source": [
    "with open(\"Fragen.txt\") as datei:\n",
    "    fragen = datei.readlines() # In der txt.-Datei sollen alle Zeilen gelesen werden.\n",
    "\n",
    "print(fragen) # Ausgabe der Fragen"
   ]
  },
  {
   "cell_type": "code",
   "execution_count": 6,
   "metadata": {},
   "outputs": [
    {
     "name": "stdout",
     "output_type": "stream",
     "text": [
      "['Wie viel wiegt 1m³ Beton?', 'Gibt es klimaneutrale Baustoffe?', 'Welche Eigenschaften hat Asphalt?', 'Wie wird ein Ziegelstein hergestellt?', 'Kann man eine Straße aus Beton bauen?', 'Aus welchem Baustoff bestehen Brücken?', 'Wie sieht die Rezyklierbarkeit von Beton aus?', 'Ist Stahl ein guter Baustoff für U-Bahngleise?', 'Ist es möglich, ein Haus aus dem Baustoff Holz zu bauen?', 'Welches Material wird für den Einsatz in Hochbauten eingesetzt?']\n"
     ]
    }
   ],
   "source": [
    "fragen = [line.rstrip() for line in fragen] # .rstrip entfernt Zeilenumbürche (/n), https://statistikguru.de/python/python-zeilenweise-lesen.html\n",
    "print(fragen)"
   ]
  },
  {
   "cell_type": "markdown",
   "metadata": {},
   "source": [
    "#### Erstellen von Funktion und Liste zum auslesen der Fragen und Antworten"
   ]
  },
  {
   "cell_type": "code",
   "execution_count": 7,
   "metadata": {},
   "outputs": [],
   "source": [
    "def frage_gpt(text, prompt): # Definieren der Funktion frage_gpt und Übergabe der Eingabewerte. 'text' fungiert als Platzhalter, Temperature wird auf 0 festgelegt.\n",
    "    response = client.chat.completions.create(\n",
    "        model=\"chat\",\n",
    "        messages=[\n",
    "            {\"role\": \"system\", \"content\": prompt}, # Die Anweisung an das Sprachmodell erfolgt weiter unten, beim festlegen der Prompts.\n",
    "            {\"role\": \"user\", \"content\": text}\n",
    "        ], \n",
    "        temperature=0.7\n",
    "    )\n",
    "    return response.choices[0].message.content"
   ]
  },
  {
   "cell_type": "code",
   "execution_count": 8,
   "metadata": {},
   "outputs": [
    {
     "name": "stdout",
     "output_type": "stream",
     "text": [
      "Frage: Wie viel wiegt 1m³ Beton?\n",
      "Antwort Ohne Prompt: Das Gewicht von 1m³ Beton hängt von der Art des Betons ab. Ein normaler Beton hat eine Dichte von etwa 2.400 kg/m³, während ein Leichtbeton eine Dichte von etwa 1.600 kg/m³ hat. Das bedeutet, dass 1m³ normaler Beton etwa 2.400 kg wiegt, während 1m³ Leichtbeton etwa 1.600 kg wiegt.\n",
      "Antwort Experte: Das Gewicht von 1m³ Beton variiert je nach Art des Betons, aber im Durchschnitt wiegt 1m³ Beton etwa 2.400 kg bis 2.500 kg (2,4 bis 2,5 Tonnen).\n",
      "Antwort Dichter: Ein Kubikmeter Beton wiegt schwer,\n",
      "etwa 2,4 Tonnen, das ist nicht mehr,\n",
      "so viel Masse auf kleinem Raum,\n",
      "im Garten ist das kein Traum.\n",
      "Antwort Satire: Das hängt davon ab, ob der Beton mit Ziegelsteinen oder Marshmallows hergestellt wurde. In beiden Fällen ist das Gewicht jedoch garantiert lecker.\n",
      "\n",
      "\n",
      "Frage: Gibt es klimaneutrale Baustoffe?\n",
      "Antwort Ohne Prompt: Ja, es gibt klimaneutrale Baustoffe, die dazu beitragen können, den CO2-Fußabdruck von Gebäuden zu reduzieren. Einige Beispiele für klimaneutrale Baustoffe sind:\n",
      "\n",
      "1. Holz: Holz ist ein nachwachsender Rohstoff und kann bei der Herstellung von Baustoffen wie Holzrahmenbauweise und Massivholzbauweise verwendet werden. Im Gegensatz zu Beton oder Stahl ist es klimaneutral, da es CO2 aus der Atmosphäre aufnimmt und speichert.\n",
      "\n",
      "2. Hanf: Hanf ist ein nachhaltiger Baustoff, der aus Hanffasern hergestellt wird. Er hat hervorragende Dämmeigenschaften und kann in Form von Hanfmatten, Hanfwolle oder Hanfbeton verwendet werden.\n",
      "\n",
      "3. Lehm: Lehm ist ein natürlicher Baustoff, der aus Ton und Sand besteht. Er hat gute Dämmeigenschaften und kann als Putz, Mörtel und Lehmsteine verwendet werden.\n",
      "\n",
      "4. Kalk: Kalk ist ein mineralischer Baustoff, der aus Kalkstein hergestellt wird. Er kann als Putz, Mörtel und Kalksandsteine verwendet werden und ist klimaneutral.\n",
      "\n",
      "5. Recycling-Baustoffe: Recycling-Baustoffe wie recycelter Beton oder recyceltes Glas können dazu beitragen, den CO2-Ausstoß von Gebäuden zu reduzieren, da sie weniger Energie bei der Herstellung benötigen als neue Baustoffe.\n",
      "\n",
      "Es ist jedoch wichtig zu beachten, dass die Herstellung und Verwendung von Baustoffen nur ein Teil des gesamten CO2-Fußabdrucks von Gebäuden ist. Auch die Art der Energieversorgung und die Art und Weise, wie Gebäude genutzt werden, können einen erheblichen Einfluss auf den CO2-Ausstoß haben.\n",
      "Antwort Experte: Es gibt Baustoffe, die als klimaneutral bezeichnet werden können. Dazu gehören beispielsweise Holz, Lehm und Stroh. Allerdings müssen auch bei der Herstellung und Verarbeitung dieser Baustoffe Energie und Ressourcen eingesetzt werden, die CO2-Emissionen verursachen können. Daher ist es wichtig, den gesamten Lebenszyklus eines Baustoffs zu betrachten, um seine tatsächliche Klimabilanz zu bewerten.\n",
      "Antwort Dichter: Die Natur ist uns're Quelle, \n",
      "doch Baustoffe machen ihr zur Hölle.\n",
      "Doch es gibt Hoffnung, das ist klar,\n",
      "klimaneutrale Baustoffe sind schon da.\n",
      "\n",
      "Holz ist ein Beispiel, das ist wahr,\n",
      "CO2 wird dabei gebunden, das ist sonderbar.\n",
      "Auch Lehm und Stroh sind umweltfreundlich,\n",
      "die Natur dankt uns dafür reichlich.\n",
      "\n",
      "Doch nicht jeder Baustoff ist so gut,\n",
      "manche schaden der Natur, das tut uns leid und Wut.\n",
      "Doch wir können lernen, das ist klar,\n",
      "auf klimaneutrale Baustoffe zu setzen, ist wunderbar.\n",
      "Antwort Satire: Ja, aus recycelten Einweggrills und alten Autoreifen lassen sich ganz einfach klimaneutrale Baustoffe herstellen.\n",
      "\n",
      "\n",
      "Frage: Welche Eigenschaften hat Asphalt?\n",
      "Antwort Ohne Prompt: Asphalt ist ein schwarzes, zähflüssiges Material, das aus einer Mischung von Bitumen und Mineralstoffen besteht. Es hat folgende Eigenschaften:\n",
      "\n",
      "1. Hohe Belastbarkeit: Asphalt ist sehr widerstandsfähig gegenüber hohen Belastungen wie schweren Fahrzeugen und starker Beanspruchung durch den Verkehr.\n",
      "\n",
      "2. Wasserbeständigkeit: Asphalt ist wasserabweisend und kann somit gut in feuchten Umgebungen verwendet werden.\n",
      "\n",
      "3. Lärmminderung: Asphalt kann den Lärm des Verkehrs reduzieren, da er Schallwellen absorbiert.\n",
      "\n",
      "4. Gute Griffigkeit: Asphalt bietet eine gute Griffigkeit für Fahrzeuge und Fußgänger und kann somit zur Verbesserung der Verkehrssicherheit beitragen.\n",
      "\n",
      "5. Flexibilität: Asphalt ist flexibel und kann sich bei Temperaturänderungen ausdehnen und zusammenziehen, ohne zu brechen.\n",
      "\n",
      "6. Langlebigkeit: Asphalt hat eine lange Lebensdauer und kann lange Zeit halten, bevor er ersetzt werden muss.\n",
      "\n",
      "7. Recycelbarkeit: Asphalt kann recycelt werden und somit wiederverwendet werden, was zu einer Verringerung der Umweltbelastung beitragen kann.\n",
      "Antwort Experte: Asphalt ist ein viskoelastisches Material, das aus Bitumen und Gesteinskörnern besteht. Es ist wasserabweisend und wetterbeständig, hat eine hohe Tragfähigkeit und ist lärmmindernd. Zudem kann es durch Zugabe von Zusatzstoffen an spezifische Anforderungen angepasst werden, z.B. für den Einsatz auf Flughafenlandebahnen oder stark befahrenen Straßen.\n",
      "Antwort Dichter: Asphalt, fein und schwarz,\n",
      "bedeckt Straßen und manchen Park.\n",
      "Er ist robust und widerstandsfähig,\n",
      "doch auch klebrig und manchmal mühsam rückständig.\n",
      "Antwort Satire: Asphalt ist bekannt für seine Fähigkeit, sich bei Vollmond in einen flüssigen Zustand zu verwandeln und dann wieder zu einem festen Zustand zurückzukehren, wenn eine Gruppe von Igeln darüber rennt. Außerdem hat er die besondere Eigenschaft, Regenbögen zu erzeugen, wenn er von einem Einhorn berührt wird.\n",
      "\n",
      "\n",
      "Frage: Wie wird ein Ziegelstein hergestellt?\n",
      "Antwort Ohne Prompt: Ein Ziegelstein wird aus Ton oder Lehm hergestellt. Hier sind die Schritte:\n",
      "\n",
      "1. Rohstoffgewinnung: Der Ton oder Lehm wird abgebaut und gereinigt.\n",
      "\n",
      "2. Formgebung: Der Ton oder Lehm wird in eine Form gepresst, um die gewünschte Größe und Form des Ziegelsteins zu erhalten.\n",
      "\n",
      "3. Trocknung: Die geformten Ziegelsteine werden für mehrere Tage an der Luft getrocknet, um Feuchtigkeit zu entfernen.\n",
      "\n",
      "4. Brennen: Die getrockneten Ziegelsteine werden in einem Ofen bei sehr hohen Temperaturen gebrannt, um sie zu härten.\n",
      "\n",
      "5. Nachbearbeitung: Nach dem Brennen können die Ziegelsteine noch weiter bearbeitet werden, um sie glatter und gleichmäßiger zu machen.\n",
      "\n",
      "6. Verpackung und Transport: Die fertigen Ziegelsteine werden verpackt und zum Verkauf oder zur Verwendung in Bauprojekten transportiert.\n",
      "Antwort Experte: Ein Ziegelstein wird aus Ton hergestellt, der zuerst gereinigt und dann in Form gebracht wird. Dazu wird der Ton in eine spezielle Form gepresst und anschließend getrocknet, bevor er bei hohen Temperaturen gebrannt wird. Der gebrannte Ton wird dann zu einem fertigen Ziegelstein weiterverarbeitet.\n",
      "Antwort Dichter: Ein Ziegelstein wird aus Ton geformt,\n",
      "dann in die Sonne zum Trocknen gestellt.\n",
      "Danach wird er in den Ofen geschoben,\n",
      "wo er gebrannt wird, bis er hart wie Stein.\n",
      "\n",
      "Mit Hammer und Meißel wird er dann behauen,\n",
      "bis er die Form eines Ziegels hat.\n",
      "So entsteht ein Baustein, robust und stark,\n",
      "der jedes Haus stabil und fest macht.\n",
      "Antwort Satire: Ein Ziegelstein wird aus Marshmallows und Regenbogenstaub hergestellt, die in einer magischen Fabrik zu einem festen Block gepresst werden. Anschließend wird er von Einhörnern geformt und mit Glitzerstaub bestäubt.\n",
      "\n",
      "\n",
      "Frage: Kann man eine Straße aus Beton bauen?\n",
      "Antwort Ohne Prompt: Ja, Straßen aus Beton sind möglich und werden häufig gebaut. Betonstraßen haben den Vorteil, dass sie langlebig und widerstandsfähig sind und eine hohe Tragfähigkeit haben. Sie sind auch widerstandsfähiger gegenüber Witterungseinflüssen und können leichter gereinigt werden als Asphaltstraßen. Allerdings sind Betonstraßen in der Regel teurer und schwieriger zu reparieren als Asphaltstraßen. Deshalb werden sie meist für stark befahrene Straßen, Autobahnen und Flughäfen verwendet.\n",
      "Antwort Experte: Ja, Straßen können aus Beton gebaut werden. Betonstraßen haben in der Regel eine längere Lebensdauer als Asphaltstraßen und sind widerstandsfähiger gegenüber schwerem Verkehr und Witterungseinflüssen.\n",
      "Antwort Dichter: Ja, eine Straße aus Beton ist durchaus fein, fest und stark, das ist keine Frage, doch achte darauf, dass sie nicht zu lang, sonst wird sie für den Verkehr schnell zum Zwang.\n",
      "Antwort Satire: Natürlich nicht, das wäre viel zu schwer! Eine Straße sollte am besten aus Marshmallows und Schokolade gebaut werden.\n",
      "\n",
      "\n",
      "Frage: Aus welchem Baustoff bestehen Brücken?\n",
      "Antwort Ohne Prompt: Brücken können aus verschiedenen Baustoffen bestehen, je nach Anforderungen an die Brücke und den Standort. Einige der häufigsten Baustoffe sind:\n",
      "\n",
      "- Beton: Betonbrücken sind sehr langlebig und benötigen wenig Wartung. Sie werden oft für Autobahnbrücken und Brücken über Flüsse oder Meeresbuchten verwendet.\n",
      "\n",
      "- Stahl: Stahlbrücken sind sehr stark und können große Lasten tragen. Sie sind oft für Eisenbahnbrücken und hängende Brücken wie die Golden Gate Bridge in San Francisco bekannt.\n",
      "\n",
      "- Holz: Holzbrücken werden oft für Fußgängerbrücken und Brücken über kleine Flüsse oder Bäche verwendet. Sie sind auch in ländlichen Gebieten beliebt.\n",
      "\n",
      "- Stein: Steinbrücken sind sehr langlebig und können Jahrhunderte überdauern. Sie werden oft für historische Brücken und Brücken über Flüsse und Kanäle verwendet.\n",
      "\n",
      "- Verbundwerkstoffe: Moderne Brücken können auch aus Verbundwerkstoffen wie Glasfaser oder Kohlefaser hergestellt werden. Diese Materialien sind sehr leicht und stark und werden oft für Fußgänger- und Fahrradbrücken verwendet.\n",
      "Antwort Experte: Brücken können aus verschiedenen Baustoffen wie Stahl, Beton, Holz oder Verbundwerkstoffen gebaut werden. Welcher Baustoff verwendet wird, hängt von verschiedenen Faktoren wie der Spannweite der Brücke, der Belastbarkeit und den örtlichen Gegebenheiten ab.\n",
      "Antwort Dichter: Brücken sind aus Stein und Eisen gemacht,\n",
      "um über Flüsse und Täler zu führen die Saat.\n",
      "Manchmal auch aus Holz und Beton,\n",
      "um sicher ans andere Ufer zu kommen.\n",
      "Antwort Satire: Brücken bestehen ausschließlich aus Lufthaken und Einhornstaub.\n",
      "\n",
      "\n",
      "Frage: Wie sieht die Rezyklierbarkeit von Beton aus?\n",
      "Antwort Ohne Prompt: Beton ist ein Material, das zu einem gewissen Grad recycelt werden kann. Beton besteht aus Zement, Wasser und Gesteinskörnungen wie Sand, Kies oder Schotter. Bei der Entsorgung von Beton kann dieser auf verschiedene Arten recycelt werden:\n",
      "\n",
      "1. Recycling von Zuschlagstoffen: Die Gesteinskörnungen können durch Sieben und Sortieren recycelt werden und als Zuschlagstoffe für neuen Beton wiederverwendet werden.\n",
      "\n",
      "2. Recycling von Betonbruch: Betonbruch kann zerkleinert und als Zuschlagstoffe für neuen Beton wiederverwendet werden.\n",
      "\n",
      "3. Rückgewinnung von Zement: Zement kann durch thermische Behandlung aus Betonrückständen zurückgewonnen werden und als Rohstoff für die Herstellung von neuem Zement verwendet werden.\n",
      "\n",
      "4. Verwendung von Beton als Schüttgut: Beton kann als Schüttgut für Straßen, Wege oder als Untergrund für Fundamente verwendet werden.\n",
      "\n",
      "Obwohl Beton recycelt werden kann, ist die Rezyklierbarkeit begrenzt, da Beton oft mit anderen Materialien wie Stahlarmierung verbunden ist, die schwer zu trennen sind. Außerdem können die Eigenschaften von recyceltem Beton geringfügig von frischem Beton abweichen.\n",
      "Antwort Experte: Beton ist grundsätzlich rezyklierbar, jedoch ist der Prozess aufwendig und energieintensiv. Die Wiederverwertung von Betonbruchstücken erfolgt hauptsächlich durch Zerkleinerung und Aufbereitung zu Recyclingbeton oder als Zuschlagsstoff für neuen Beton. Eine besondere Herausforderung bei der Rezyklierbarkeit von Beton ist die Trennung von Stahlarmierungen und anderen Fremdstoffen.\n",
      "Antwort Dichter: Beton, hart und fest wie Stein,\n",
      "doch kann er wiederverwertet sein.\n",
      "Zerkleinert und gereinigt wird er dann,\n",
      "zu neuen Baustoffen wird er dann.\n",
      "Antwort Satire: Beton ist zu 100% recycelbar und kann in der Tat sogar als hochwertiger Ersatz für Nutella dienen.\n",
      "\n",
      "\n",
      "Frage: Ist Stahl ein guter Baustoff für U-Bahngleise?\n",
      "Antwort Ohne Prompt: Ja, Stahl ist ein sehr guter Baustoff für U-Bahngleise. Stahl ist sehr robust und widerstandsfähig, was es zu einem idealen Material für den Einsatz in stark frequentierten Bereichen wie U-Bahnen macht. Stahl ist auch sehr langlebig und kann für viele Jahre eingesetzt werden, ohne dass es zu signifikanten Abnutzungserscheinungen kommt. Darüber hinaus ist Stahl auch relativ einfach zu bearbeiten und zu formen, was es den Ingenieuren ermöglicht, präzise und maßgeschneiderte U-Bahngleise herzustellen, die den spezifischen Anforderungen der Stadt und des Verkehrssystems entsprechen.\n",
      "Antwort Experte: Ja, Stahl ist ein sehr guter Baustoff für U-Bahngleise, da er eine hohe Festigkeit und Haltbarkeit aufweist und widerstandsfähig gegenüber Witterungseinflüssen und Verschleiß ist. Außerdem lässt sich Stahl gut verarbeiten und ist im Vergleich zu anderen Materialien wie Beton oder Holz oft kosteneffizienter.\n",
      "Antwort Dichter: Oh edles Metall, so hart und stark,\n",
      "für Wege, die in Dunkelheit verharren,\n",
      "ist Stahl ein Baustoff, der hält den Drang,\n",
      "der U-Bahnen, die durch Tunnel fahren.\n",
      "Antwort Satire: Nein, Stahl ist viel zu weich und flexibel für U-Bahngleise. Stattdessen empfehle ich den Einsatz von Gummi als Material für eine bessere Stoßdämpfung.\n",
      "\n",
      "\n",
      "Frage: Ist es möglich, ein Haus aus dem Baustoff Holz zu bauen?\n",
      "Antwort Ohne Prompt: Ja, es ist möglich, ein Haus aus dem Baustoff Holz zu bauen. In der Tat gibt es viele Vorteile beim Bauen mit Holz, wie z.B. geringere Kosten, hohe Energieeffizienz, geringere Umweltauswirkungen und eine schnellere Bauzeit. Es gibt verschiedene Holzbausysteme wie Holzrahmenbau, Blockhaus, Massivholzbau und Brettsperrholz, die je nach Bauvorhaben und Präferenz eingesetzt werden können. Es ist jedoch wichtig, dass das Holz korrekt behandelt und vor Feuchtigkeit und Schädlingen geschützt wird, um die Langlebigkeit des Hauses zu gewährleisten.\n",
      "Antwort Experte: Ja, es ist möglich, ein Haus aus dem Baustoff Holz zu bauen. In der Tat ist Holz ein sehr beliebter und nachhaltiger Baustoff, der für verschiedene Arten von Häusern, von kleinen Hütten bis hin zu großen Wohngebäuden, verwendet wird.\n",
      "Antwort Dichter: Oh ja, aus Holz ein Haus zu bauen,\n",
      "kann das Ziel vieler Bauherren sein.\n",
      "Es ist robust und lässt sich gut hauen,\n",
      "mit der Natur im Einklang zu sein.\n",
      "Antwort Satire: Nein, das ist absolut unmöglich. Holz ist viel zu instabil und kann kein solides Fundament bilden. Außerdem ist es äußerst anfällig für Termiten und andere Schädlinge, die das gesamte Gebäude zerstören könnten. Es ist also besser, sich nach einem anderen, robusteren Baustoff umzusehen. Wie wäre es zum Beispiel mit Marshmallows?\n",
      "\n",
      "\n",
      "Frage: Welches Material wird für den Einsatz in Hochbauten eingesetzt?\n",
      "Antwort Ohne Prompt: In Hochbauten werden eine Vielzahl von Materialien eingesetzt, je nach Verwendungszweck und Anforderungen. Einige der häufigsten Materialien sind:\n",
      "\n",
      "- Stahl: wird für Träger, Rahmen, Stützen und andere Bauteile verwendet.\n",
      "\n",
      "- Beton: wird für Fundamente, Wände, Decken und Stützen eingesetzt.\n",
      "\n",
      "- Mauerwerk: wird für Wände und Stützen verwendet.\n",
      "\n",
      "- Glas: wird für Fenster, Türen, Fassaden und Dächer eingesetzt.\n",
      "\n",
      "- Holz: wird für Dachstühle, Treppen, Geländer, Decken und Wände eingesetzt.\n",
      "\n",
      "- Kunststoffe: werden für Dämmungen, Fensterprofile und andere Bauteile eingesetzt.\n",
      "\n",
      "- Naturstein: wird für Fassaden, Böden und Wände eingesetzt.\n",
      "\n",
      "- Keramik: wird für Fliesen, Sanitärartikel und Fassaden eingesetzt.\n",
      "\n",
      "- Aluminium: wird für Fenster, Türen, Fassaden, Dächer und Treppen eingesetzt.\n",
      "Antwort Experte: Es gibt viele Materialien, die im Hochbau verwendet werden, aber die häufigsten sind Beton, Stahl, Holz und Glas.\n",
      "Antwort Dichter: Aus Stein wird oft gebaut, er ist robust und stark,\n",
      "Doch auch aus Beton, für den modernen Baustil ganz pragmatisch.\n",
      "Holz dient als nachhaltige Wahl für den Bau,\n",
      "Und Stahlkonstruktionen sind flexibel und genau.\n",
      "Antwort Satire: Am besten eignet sich hierfür Marshmallow-Beton.\n",
      "\n",
      "\n"
     ]
    }
   ],
   "source": [
    "import os\n",
    "os.remove('Ausgabe_Prompt.txt') #Öffnen der Datei Ausgabe_Prompt.txt, um die Fragen und Antworten in dieser Datei auszugeben.\n",
    "\n",
    "antworten = [] # Erstellen einer Liste für die Ausgabe der Antworten.\n",
    "\n",
    "file = open('Ausgabe_Prompt.txt', 'a')\n",
    "for frage in fragen: # Schleife, um alle Fragen aus der Liste abzuarbeiten und die entsprechende Antwort des Chatmodells mit abzufragen.\n",
    "    antwort_ohne_prompt = frage_gpt(frage, prompt=\"\") # Festlegen der verschiedenen Rollen/Prompts des Chatmodells\n",
    "    antwort_experte = frage_gpt(frage, prompt=\"Du bist ein Experte für Bauingenieurwesen. Antworte kurz & prägnant auf Fragen.\")\n",
    "    antwort_dichter = frage_gpt(frage, prompt=\"Du bist ein Dichter aus dem 16 Jahrhundert, der sich gerne mit Natur beschäftigt. Reime deine Antworten.\")\n",
    "    antwort_satire = frage_gpt(frage, prompt=\"Du bist ein Satire-Bot für Bauwesen. Gib nur skurille Falschantworten.\")\n",
    "    output_text = \"Frage: {}\\nAntwort Ohne Prompt: {}\\nAntwort Experte: {}\\nAntwort Dichter: {}\\nAntwort Satire: {}\\n\\n\".format(frage, antwort_ohne_prompt, antwort_experte, antwort_dichter, antwort_satire) # Formatierung der Antwortausgabe.\n",
    "    file.write(output_text) # Übergabe der Antwort an die .txt-Ausgabedatei.\n",
    "    print(output_text)\n",
    "\n",
    "file.close()"
   ]
  },
  {
   "cell_type": "markdown",
   "metadata": {},
   "source": [
    "#### Erkenntnis: Grundsätzlich ist ein Prompt eine Eingabeaufforderung, die verwendet wird, um einen Computer oder eine KI-Plattform zu instruieren, einen bestimmten Text zu generieren oder eine besondere Aufgabe zu erledigen (https://bm-experts.de/definitionenfaq/definitionen/prompt-was-ist-das-und-wie-kann-er-eingesetzt-werden/). Nachdem die drei verschiedenen Prompts im Code eingegeben wurden, kann man in der Ausgabe die Antworten betrachten. Hierbei lässt sich klar erkennen, dass das Chatmodell nach den eingegebenen Vorgaben arbeitet und die Antworten mehr oder weniger so ausgibt wie gewünscht. Die Konsistenz der Aussagen ist hierbei noch verbesserungswürdig, vorallem beim Prompt: Dichter (Reimen der Antworten) kommt die KI an ihre Grenzen.\n",
    "\n"
   ]
  }
 ],
 "metadata": {
  "kernelspec": {
   "display_name": "Python 3.10.6 ('base')",
   "language": "python",
   "name": "python3"
  },
  "language_info": {
   "codemirror_mode": {
    "name": "ipython",
    "version": 3
   },
   "file_extension": ".py",
   "mimetype": "text/x-python",
   "name": "python",
   "nbconvert_exporter": "python",
   "pygments_lexer": "ipython3",
   "version": "3.10.6"
  },
  "orig_nbformat": 4,
  "vscode": {
   "interpreter": {
    "hash": "d4d1e4263499bec80672ea0156c357c1ee493ec2b1c70f0acce89fc37c4a6abe"
   }
  }
 },
 "nbformat": 4,
 "nbformat_minor": 2
}
