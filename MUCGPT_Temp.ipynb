{
 "cells": [
  {
   "cell_type": "markdown",
   "metadata": {},
   "source": [
    "## Methodische & Digitale Kompetenz (DIKO) - Modularbeit Eigenleistung - SoSe 2024 - Maximilian Fiebig\n",
    "## Experiment Temperature"
   ]
  },
  {
   "cell_type": "markdown",
   "metadata": {},
   "source": [
    "#### Installation von OpenAI-Bibliothek (https://pypi.org/project/openai/)"
   ]
  },
  {
   "cell_type": "code",
   "execution_count": 17,
   "metadata": {},
   "outputs": [
    {
     "name": "stdout",
     "output_type": "stream",
     "text": [
      "Requirement already satisfied: openai in /opt/conda/lib/python3.10/site-packages (1.34.0)\n",
      "Requirement already satisfied: python-dotenv in /opt/conda/lib/python3.10/site-packages (1.0.1)\n",
      "Requirement already satisfied: sniffio in /opt/conda/lib/python3.10/site-packages (from openai) (1.3.0)\n",
      "Requirement already satisfied: distro<2,>=1.7.0 in /opt/conda/lib/python3.10/site-packages (from openai) (1.9.0)\n",
      "Requirement already satisfied: tqdm>4 in /opt/conda/lib/python3.10/site-packages (from openai) (4.64.1)\n",
      "Requirement already satisfied: typing-extensions<5,>=4.7 in /opt/conda/lib/python3.10/site-packages (from openai) (4.12.2)\n",
      "Requirement already satisfied: anyio<5,>=3.5.0 in /opt/conda/lib/python3.10/site-packages (from openai) (3.6.1)\n",
      "Requirement already satisfied: pydantic<3,>=1.9.0 in /opt/conda/lib/python3.10/site-packages (from openai) (1.10.2)\n",
      "Requirement already satisfied: httpx<1,>=0.23.0 in /opt/conda/lib/python3.10/site-packages (from openai) (0.27.0)\n",
      "Requirement already satisfied: idna>=2.8 in /opt/conda/lib/python3.10/site-packages (from anyio<5,>=3.5.0->openai) (3.4)\n",
      "Requirement already satisfied: certifi in /opt/conda/lib/python3.10/site-packages (from httpx<1,>=0.23.0->openai) (2022.9.24)\n",
      "Requirement already satisfied: httpcore==1.* in /opt/conda/lib/python3.10/site-packages (from httpx<1,>=0.23.0->openai) (1.0.5)\n",
      "Requirement already satisfied: h11<0.15,>=0.13 in /opt/conda/lib/python3.10/site-packages (from httpcore==1.*->httpx<1,>=0.23.0->openai) (0.14.0)\n",
      "Note: you may need to restart the kernel to use updated packages.\n"
     ]
    }
   ],
   "source": [
    "pip install openai python-dotenv"
   ]
  },
  {
   "cell_type": "markdown",
   "metadata": {},
   "source": [
    "#### Erstellung der Azure OpenAI-Instanz (https://learn.microsoft.com/de-de/azure/ai-services/openai/how-to/switching-endpoints#api-key)\n",
    "- Der API KEY ist ähnlich wie ein Passwort\n",
    "- Man speichert ihn in einer externen .env-Datei, damit niemand den Key im Code sehen kann\n",
    "- Die API-Version ist die genaue Spezifikation/Anleitung, damit die Bibliothek genau weiß, wie das JSON formatiert werden muss. Sie ändert sich durch Updates, deswegen muss sie mit angegeben werden. Die Version 2024-02-01 ist die von MUCGPT genutze Version bei Azure. (https://learn.microsoft.com/en-gb/azure/ai-services/openai/api-version-deprecation#latest-ga-api-release)"
   ]
  },
  {
   "cell_type": "code",
   "execution_count": 18,
   "metadata": {},
   "outputs": [],
   "source": [
    "from dotenv import load_dotenv\n",
    "from openai import AzureOpenAI\n",
    "\n",
    "load_dotenv() # Laden der externen .env-Datei, in der API-Key und Azure Endpoint gespeichert sind.\n",
    "\n",
    "client = AzureOpenAI(\n",
    "    api_key=os.getenv(\"AZURE_OPENAI_API_KEY\"),  \n",
    "    api_version=\"2024-02-01\",\n",
    "    azure_endpoint=os.getenv(\"AZURE_OPENAI_ENDPOINT\")\n",
    ")"
   ]
  },
  {
   "cell_type": "markdown",
   "metadata": {},
   "source": [
    "Chat Completions API-Aufruf: https://platform.openai.com/docs/guides/text-generation/chat-completions-api\n",
    "\n",
    "- Temperature: Im Prompting bestimmt die Temperatur die Gewichtung von Kreativität in den Antworten der KI. Sie kann auch die Konsistenz und Vorhersehbarkeit der KI-Antworten beeinflussen. Eine niedrigere Temperatur führt dazu, dass die KI eher Wörter wählt, die wahrscheinlicher sind, und die Antworten beim gleichen Prompt sich ähnlich sind. Näheres dazu finden Sie am Ende des Codes."
   ]
  },
  {
   "cell_type": "code",
   "execution_count": 19,
   "metadata": {},
   "outputs": [],
   "source": [
    "response = client.chat.completions.create(\n",
    "  model=\"chat\", # 'Chat' ist das zugehörige Deployment bei Azure, dahinter liegt gpt-3.5-turbo.\n",
    "  messages=[\n",
    "    {\"role\": \"system\", \"content\": \"Du bist ein Experte für Baustoffkunde.\"}, # Anweisung an das Sprachmodell, optional\n",
    "    {\"role\": \"user\", \"content\": \"Was sind die Bestandteile von Beton?\"} # Frage von Nutzer an das Sprachmodell\n",
    "  ], \n",
    "  temperature=1 # Steuerung der Kreativität\n",
    ")"
   ]
  },
  {
   "cell_type": "code",
   "execution_count": 20,
   "metadata": {},
   "outputs": [
    {
     "name": "stdout",
     "output_type": "stream",
     "text": [
      "Die Bestandteile von Beton sind Zement, Sand, Kies oder Schotter (Gesteinskörnung) und Wasser. Zusätzlich können noch Zusatzstoffe wie z.B. Zuschlagstoffe, Superplastifizierer, Luftporenbildner oder Farbstoffe hinzugefügt werden, um bestimmte Eigenschaften des Betons zu verbessern oder zu verändern.\n"
     ]
    }
   ],
   "source": [
    "print(response.choices[0].message.content) # Ausgabe der Antwort des Chatmodells"
   ]
  },
  {
   "cell_type": "markdown",
   "metadata": {},
   "source": [
    "#### Importieren der .txt-Datei mit Fragen"
   ]
  },
  {
   "cell_type": "code",
   "execution_count": 21,
   "metadata": {},
   "outputs": [
    {
     "name": "stdout",
     "output_type": "stream",
     "text": [
      "['Wie viel wiegt 1m³ Beton?\\n', 'Gibt es klimaneutrale Baustoffe?\\n', 'Welche Eigenschaften hat Asphalt?\\n', 'Wie wird ein Ziegelstein hergestellt?\\n', 'Kann man eine Straße aus Beton bauen?\\n', 'Aus welchem Baustoff bestehen Brücken?\\n', 'Wie sieht die Rezyklierbarkeit von Beton aus?\\n', 'Ist Stahl ein guter Baustoff für U-Bahngleise?\\n', 'Ist es möglich, ein Haus aus dem Baustoff Holz zu bauen?\\n', 'Welches Material wird für den Einsatz in Hochbauten eingesetzt?']\n"
     ]
    }
   ],
   "source": [
    "with open(\"Fragen.txt\") as datei:\n",
    "    fragen = datei.readlines() # In der txt.-Datei sollen alle Zeilen gelesen werden.\n",
    "\n",
    "print(fragen)"
   ]
  },
  {
   "cell_type": "code",
   "execution_count": 22,
   "metadata": {},
   "outputs": [
    {
     "name": "stdout",
     "output_type": "stream",
     "text": [
      "['Wie viel wiegt 1m³ Beton?', 'Gibt es klimaneutrale Baustoffe?', 'Welche Eigenschaften hat Asphalt?', 'Wie wird ein Ziegelstein hergestellt?', 'Kann man eine Straße aus Beton bauen?', 'Aus welchem Baustoff bestehen Brücken?', 'Wie sieht die Rezyklierbarkeit von Beton aus?', 'Ist Stahl ein guter Baustoff für U-Bahngleise?', 'Ist es möglich, ein Haus aus dem Baustoff Holz zu bauen?', 'Welches Material wird für den Einsatz in Hochbauten eingesetzt?']\n"
     ]
    }
   ],
   "source": [
    "fragen = [line.rstrip() for line in fragen] # .rstrip entfernt Zeilenumbürche (/n), https://statistikguru.de/python/python-zeilenweise-lesen.html\n",
    "print(fragen)"
   ]
  },
  {
   "cell_type": "markdown",
   "metadata": {},
   "source": [
    "#### Erstellen Funktion und Liste zum auslesen der Fragen und Antworten"
   ]
  },
  {
   "cell_type": "code",
   "execution_count": 23,
   "metadata": {},
   "outputs": [],
   "source": [
    "def frage_gpt(text, temp=0): #Definieren der Funktion frage_gpt, und Übergabe der Eingabewerte. 'text' fungiert als Platzhalter, Temperature wird auf 0 festgelegt.\n",
    "    response = client.chat.completions.create(\n",
    "        model=\"chat\",\n",
    "        messages=[\n",
    "            {\"role\": \"system\", \"content\": \"Du bist ein Experte für Bauingenieurwesen. Antworte kurz & prägnant auf Fragen.\"}, # Aneweisung an das Sprachmodell\n",
    "            {\"role\": \"user\", \"content\": text}\n",
    "        ], \n",
    "        temperature=temp\n",
    "    )\n",
    "    return response.choices[0].message.content"
   ]
  },
  {
   "cell_type": "code",
   "execution_count": 24,
   "metadata": {},
   "outputs": [
    {
     "name": "stdout",
     "output_type": "stream",
     "text": [
      "Frage: Wie viel wiegt 1m³ Beton?\n",
      "Antwort 0.0: 1m³ Beton wiegt etwa 2400 kg bis 2500 kg, je nach Art des Betons und seiner Zusammensetzung.\n",
      "Antwort 0.7: Die Dichte von Beton variiert je nach Art des Betons, aber in der Regel wiegt 1m³ Beton etwa 2400 kg bis 2500 kg.\n",
      "Antwort 1.5: 1m³ Beton wiegt in der Regel etwa 2.400 bis 2.500 kg.<IActionResult>\n",
      "\n",
      "\n",
      "Frage: Gibt es klimaneutrale Baustoffe?\n",
      "Antwort 0.0: Ja, es gibt klimaneutrale Baustoffe wie zum Beispiel Holz, Lehm oder Stroh. Diese Materialien binden während ihres Wachstums CO2 und setzen es nicht bei der Herstellung frei. Zudem können sie oft recycelt oder wiederverwendet werden.\n",
      "Antwort 0.7: Ja, es gibt klimaneutrale Baustoffe wie zum Beispiel Holz, Kork oder Lehm. Diese Materialien binden während ihres Wachstums oder bei der Herstellung mehr CO2, als bei ihrer Verwendung freigesetzt wird.\n",
      "Antwort 1.5: Es gibt Baustoffe, die als klimaneutral gelten, da sie bei ihrer Produktion kein C02 ausstoßen oder recycelt werden können. Dazu gehören zum Beispiel Holz-, Lehm-, Keramik-, und sehr seltener Schwebebeton.\n",
      "\n",
      "\n",
      "Frage: Welche Eigenschaften hat Asphalt?\n",
      "Antwort 0.0: Asphalt ist ein viskoelastischer Stoff, der aus Bitumen und Gesteinskörnungen besteht. Er ist wasserundurchlässig, lärmmindernd, rutschfest und widerstandsfähig gegenüber hohen Temperaturen und mechanischen Belastungen.\n",
      "Antwort 0.7: Asphalt ist ein viskoelastischer Stoff, der aus einer Mischung von Bitumen und mineralischen Aggregaten besteht. Er ist wasserundurchlässig, langlebig und widerstandsfähig gegenüber Verformungen und Abnutzung. Asphalt ist außerdem flexibel und kann sich den Bewegungen des Unterbaus anpassen.\n",
      "Antwort 1.5: Asphalt hat die Eigenschaften gute Bindekraft, Abriebfestigkeit, Flexibilität sowie eine gewisse Elastizität und wird deshalb oft zur Herstellung von asphaltierten Straßenbelägen verwendet.\n",
      "\n",
      "\n",
      "Frage: Wie wird ein Ziegelstein hergestellt?\n",
      "Antwort 0.0: Ein Ziegelstein wird aus Ton oder Lehm hergestellt. Der Ton wird zunächst in einer Mischmaschine mit Wasser vermengt und dann in eine Form gepresst. Anschließend wird der Ziegelstein getrocknet und gebrannt, um ihn zu härten.\n",
      "Antwort 0.7: Ein Ziegelstein wird aus Ton durch Pressen und Brennen hergestellt. Der Ton wird zuerst in Form gebracht und dann getrocknet. Anschließend wird er bei hohen Temperaturen gebrannt, um ihn zu verfestigen und haltbar zu machen.\n",
      "Antwort 1.5: Ein Ziegelstein wird aus Ton und Sand hergestellt, der zu Tonmasse geformt und dann zum Trocknen an der Luft in Rohformen gegeben wird. Danach wird der Rohling gebrannt und erhält dadurch seine typische rot-bräunliche Färbung.                                                \n",
      "\n",
      "\n",
      "\n",
      "Frage: Kann man eine Straße aus Beton bauen?\n",
      "Antwort 0.0: Ja, Straßen können aus Beton gebaut werden. Betonstraßen haben den Vorteil, dass sie langlebig und widerstandsfähig gegenüber schweren Lasten und Witterungseinflüssen sind.\n",
      "Antwort 0.7: Ja, Straßen aus Beton werden oft gebaut, insbesondere für stark frequentierte Straßen und Autobahnen. Betonstraßen haben eine hohe Tragfähigkeit und sind langlebig.\n",
      "Antwort 1.5: Ja, Straßen aus Beton gehören zu den üblichen Bauweisen für große Verkehrsflächen und haben viele Vorteile wie Langlebigkeit und Eignung für schweres Verkehrsaufkommen.\n",
      "\n",
      "\n",
      "Frage: Aus welchem Baustoff bestehen Brücken?\n",
      "Antwort 0.0: Brücken können aus verschiedenen Baustoffen wie Stahl, Beton, Holz oder Verbundwerkstoffen gebaut werden. Die Wahl des Baustoffs hängt von verschiedenen Faktoren wie der Spannweite, der Belastung und den Umweltbedingungen ab.\n",
      "Antwort 0.7: Brücken können aus verschiedenen Baustoffen wie Beton, Stahl, Holz oder Verbundwerkstoffen gebaut werden, je nach Anforderungen an Tragfähigkeit, Langlebigkeit und ästhetischem Aussehen.\n",
      "Antwort 1.5: Brücken können aus verschiedenen Baumaterialien wie Stahl, Beton, Holz oder Verbundstoffen bestehen. Die Wahl hängt vom spezifischen Standort, Zweck und is Selbstkosten ab.\n",
      "\n",
      "\n",
      "Frage: Wie sieht die Rezyklierbarkeit von Beton aus?\n",
      "Antwort 0.0: Beton ist zu einem gewissen Grad rezyklierbar. Das Recycling von Beton kann durch das Zerkleinern und Wiederverwenden von Betonabbruch oder durch die Verwendung von recyceltem Beton als Zuschlagstoff in neuen Betonmischungen erfolgen. Allerdings ist die Qualität des recycelten Betons oft schlechter als die des Originalbetons und es können zusätzliche Kosten für die Sortierung und Reinigung des Abbruchs anfallen.\n",
      "Antwort 0.7: Beton ist grundsätzlich rezyklierbar. Das Recycling von Beton erfolgt durch Zerkleinerung und Wiederverwendung als Zuschlagstoff im neuen Beton. Dabei können bis zu 100% des recycelten Betons als Zuschlagstoff verwendet werden. Jedoch können auch andere Materialien wie Armierungsstahl und Bauchemie die Rezyklierbarkeit beeinflussen.\n",
      "Antwort 1.5: Beton ist zwar nicht vollständig rezyklierbar, aber es gibt Möglichkeiten, größere Mengen an Betonabfall wieder zu verwenden. Die Verwendung von recyceltem Beton-Schüttgut ist dabei am häufigsten. Vor allem im Straßenbau, aber auch im Tief- und Wasserbau und bei baustatischen Bauten wie Wänden und Decken wird recycelter Beton eingesetzt. Ein klassisches Dämmsystem aus reinem Altbeton ist nicht produkt- und sogar umweltbelastend.            \n",
      "\n",
      "\n",
      "Frage: Ist Stahl ein guter Baustoff für U-Bahngleise?\n",
      "Antwort 0.0: Ja, Stahl ist ein sehr guter Baustoff für U-Bahngleise, da er eine hohe Festigkeit und Haltbarkeit aufweist und auch gegenüber Feuchtigkeit und Korrosion beständig ist. Zudem lässt sich Stahl gut verarbeiten und ist relativ kosteneffizient.\n",
      "Antwort 0.7: Ja, Stahl ist ein ausgezeichneter Baustoff für U-Bahngleise, da er sehr robust und langlebig ist und eine hohe Tragfähigkeit aufweist. Es wird häufig für Schienen, Schwellen und andere Komponenten von U-Bahn-Systemen verwendet.\n",
      "Antwort 1.5: Ja, sehr gut sogar. Stahl ist wegen seiner hohen Tragfähigkeit, Korrosionsbeständigkeit und Haltbarkeit ein gängiger Baustoff für stark befahrene U-Bahngleise.\n",
      "\n",
      "\n",
      "Frage: Ist es möglich, ein Haus aus dem Baustoff Holz zu bauen?\n",
      "Antwort 0.0: Ja, es ist möglich, ein Haus aus Holz zu bauen. Holz ist ein beliebter Baustoff für Häuser, insbesondere in Ländern mit reichlichem Holzvorkommen. Es gibt verschiedene Bauweisen und Holzarten, die für den Hausbau verwendet werden können.\n",
      "Antwort 0.7: Ja, es ist möglich, ein Haus aus Holz zu bauen. Holz ist ein beliebter Baustoff für Häuser aufgrund seiner hohen Festigkeit, Haltbarkeit und Umweltfreundlichkeit. Holzhäuser können auch schneller gebaut werden als Häuser aus anderen Materialien.\n",
      "Antwort 1.5: Ja, es ist definitiv möglich, ein Haus aus Holz zu bauen, Holz ist sogar einer der häufigsten Baustoffe für Wohnhäuser.\n",
      "\n",
      "\n",
      "Frage: Welches Material wird für den Einsatz in Hochbauten eingesetzt?\n",
      "Antwort 0.0: Für den Einsatz in Hochbauten werden verschiedene Materialien eingesetzt, wie z.B. Beton, Stahl, Holz, Glas und Kunststoffe. Die Wahl des Materials hängt von verschiedenen Faktoren ab, wie z.B. der Tragfähigkeit, der Witterungsbeständigkeit, der Ästhetik und der Wirtschaftlichkeit.\n",
      "Antwort 0.7: Für Hochbauten werden verschiedene Materialien eingesetzt, je nach Anforderungen an Statik, Brandschutz, Wärmedämmung etc. Typische Materialien sind Beton, Stahl, Holz und Mauerwerk.\n",
      "Antwort 1.5: In den meisten Fällen wird Beton, Stahl, Holz und Aluminium für den Einsatz in Hochbauten verwendet. Je nach ästhetischen oder funktionalen Anforderungen kommen auch weiterführende Materialien wie Glas, Naturstein, Vormauerziegel etc. zum Einsatz.\n",
      "\n",
      "\n"
     ]
    }
   ],
   "source": [
    "import os\n",
    "os.remove('Ausgabe_Temp.txt') # Öffnen der Datei Ausgabe_Temp.txt, um die Fragen und Antworten in dieser Datei auszugeben.\n",
    "\n",
    "antworten = [] #Erstellen einer Liste für die Ausgabe der Antworten.\n",
    "\n",
    "file = open('Ausgabe_Temp.txt', 'a')\n",
    "for frage in fragen: # Schleife, um alle Fragen aus der Liste abzuarbeiten und die entsprechende Antwort des Chatmodells mit abzufragen.\n",
    "    antwort00 = frage_gpt(frage) # Festlegen der verschiedenen Temperatures des Chatmodells\n",
    "    antwort07 = frage_gpt(frage, temp=0.7)\n",
    "    antwort15 = frage_gpt(frage, temp=1.5)\n",
    "    output_text = \"Frage: {}\\nAntwort 0.0: {}\\nAntwort 0.7: {}\\nAntwort 1.5: {}\\n\\n\".format(frage, antwort00, antwort07, antwort15) # Formatierung der Antwortausgabe.\n",
    "    file.write(output_text) # Übergabe der Antwort an die .txt-Ausgabedatei.\n",
    "    print(output_text)\n",
    "\n",
    "file.close()"
   ]
  },
  {
   "cell_type": "markdown",
   "metadata": {},
   "source": [
    "#### Erkenntnis: Grundsätzlich bestimmt die Temperatur die Gewichtung von Kreativität in den Antworten der KI. Die Temperatur bietet aber mehr als nur eine Möglichkeit, die Kreativität zu steuern. Sie kann auch die Konsistenz und Vorhersehbarkeit der KI-Antworten beeinflussen. Eine niedrigere Temperatur führt dazu, dass die KI eher Wörter wählt, die wahrscheinlicher sind, und die Antworten beim gleichen Prompt sich ähnlich sind (https://www.german.ai/wissen/temperatur). Es gibt drei verschiedene Level der Temperature. Niedrige Temperatur (bei ChatGPT 0.1 - 0.4): Hier erhält man präzise, neutrale Antworten. Mittlere Temperatur (bei ChatGPT 0.5 - 0.7): Diese Einstellung hält die Balance zwischen Kreativität und Konsistenz. 0.7 soll die Standardtemperatur von ChatGPT sein. Hohe Temperatur (bei ChatGPT 0.8 - 1.0): Mit dieser Einstellung generiert die AI überraschende, unvorhersehbare und kreative Antworten. Manchmal findest man gute Antworten, und manchmal schießt die AI am Ziel vorbei. Hierbei können vorallem Schreibfehler und sinnlose Wortaneinanderreihungen das Ergbenis sein. Diese Phänomene lassen sich anhand der oben gezeigten Beispiele optimal nachvollziehen."
   ]
  }
 ],
 "metadata": {
  "kernelspec": {
   "display_name": "Python 3.10.6 ('base')",
   "language": "python",
   "name": "python3"
  },
  "language_info": {
   "codemirror_mode": {
    "name": "ipython",
    "version": 3
   },
   "file_extension": ".py",
   "mimetype": "text/x-python",
   "name": "python",
   "nbconvert_exporter": "python",
   "pygments_lexer": "ipython3",
   "version": "3.10.6"
  },
  "orig_nbformat": 4,
  "vscode": {
   "interpreter": {
    "hash": "d4d1e4263499bec80672ea0156c357c1ee493ec2b1c70f0acce89fc37c4a6abe"
   }
  }
 },
 "nbformat": 4,
 "nbformat_minor": 2
}
