{
 "cells": [
  {
   "cell_type": "markdown",
   "metadata": {},
   "source": [
    "## Methodische & Digitale Kompetenz (DIKO) - Modularbeit Eigenleistung - SS 2024 - Maximilian Fiebig"
   ]
  },
  {
   "cell_type": "markdown",
   "metadata": {},
   "source": [
    "#### Installation von OpenAI-Bibliothek (https://pypi.org/project/openai/)"
   ]
  },
  {
   "cell_type": "code",
   "execution_count": 1,
   "metadata": {},
   "outputs": [
    {
     "name": "stdout",
     "output_type": "stream",
     "text": [
      "Requirement already satisfied: openai in /opt/conda/lib/python3.10/site-packages (1.34.0)\n",
      "Requirement already satisfied: python-dotenv in /opt/conda/lib/python3.10/site-packages (1.0.1)\n",
      "Requirement already satisfied: typing-extensions<5,>=4.7 in /opt/conda/lib/python3.10/site-packages (from openai) (4.12.2)\n",
      "Requirement already satisfied: pydantic<3,>=1.9.0 in /opt/conda/lib/python3.10/site-packages (from openai) (1.10.2)\n",
      "Requirement already satisfied: tqdm>4 in /opt/conda/lib/python3.10/site-packages (from openai) (4.64.1)\n",
      "Requirement already satisfied: sniffio in /opt/conda/lib/python3.10/site-packages (from openai) (1.3.0)\n",
      "Requirement already satisfied: distro<2,>=1.7.0 in /opt/conda/lib/python3.10/site-packages (from openai) (1.9.0)\n",
      "Requirement already satisfied: anyio<5,>=3.5.0 in /opt/conda/lib/python3.10/site-packages (from openai) (3.6.1)\n",
      "Requirement already satisfied: httpx<1,>=0.23.0 in /opt/conda/lib/python3.10/site-packages (from openai) (0.27.0)\n",
      "Requirement already satisfied: idna>=2.8 in /opt/conda/lib/python3.10/site-packages (from anyio<5,>=3.5.0->openai) (3.4)\n",
      "Requirement already satisfied: httpcore==1.* in /opt/conda/lib/python3.10/site-packages (from httpx<1,>=0.23.0->openai) (1.0.5)\n",
      "Requirement already satisfied: certifi in /opt/conda/lib/python3.10/site-packages (from httpx<1,>=0.23.0->openai) (2022.9.24)\n",
      "Requirement already satisfied: h11<0.15,>=0.13 in /opt/conda/lib/python3.10/site-packages (from httpcore==1.*->httpx<1,>=0.23.0->openai) (0.14.0)\n",
      "Note: you may need to restart the kernel to use updated packages.\n"
     ]
    }
   ],
   "source": [
    "pip install openai python-dotenv"
   ]
  },
  {
   "cell_type": "markdown",
   "metadata": {},
   "source": [
    "#### Erstellung der Azure OpenAI-Instanz (https://learn.microsoft.com/de-de/azure/ai-services/openai/how-to/switching-endpoints#api-key)\n",
    "- Der API KEY ist ähnlich wie ein Passwort\n",
    "- Man speichert ihn in einer externen .env-Datei, damit niemand den Key im Code sehen kann\n",
    "- Die API-Version ist die genaue Spezifikation/Anleitung, damit die Bibliothek genau weiß, wie das JSON formatiert werden muss. Sie ändert sich durch Updates, deswegen muss sie mit angegeben werden. Die Version 2024-02-01 ist die von MUCGPT genutze Version bei Azure. (https://learn.microsoft.com/en-gb/azure/ai-services/openai/api-version-deprecation#latest-ga-api-release)"
   ]
  },
  {
   "cell_type": "code",
   "execution_count": 2,
   "metadata": {},
   "outputs": [],
   "source": [
    "from dotenv import load_dotenv\n",
    "from openai import AzureOpenAI\n",
    "\n",
    "load_dotenv() # Laden der externen .env-Datei, in der API-Key und Azure Endpoint gespeichert sind.\n",
    "\n",
    "client = AzureOpenAI(\n",
    "    api_key=os.getenv(\"AZURE_OPENAI_API_KEY\"),  \n",
    "    api_version=\"2024-02-01\",\n",
    "    azure_endpoint=os.getenv(\"AZURE_OPENAI_ENDPOINT\")\n",
    ")"
   ]
  },
  {
   "cell_type": "markdown",
   "metadata": {},
   "source": [
    "Chat Completions API-Aufruf: https://platform.openai.com/docs/guides/text-generation/chat-completions-api\n",
    "\n",
    "- Temperature: Im Prompting bestimmt die Temperatur die Gewichtung von Kreativität in den Antworten der KI. Sie kann auch die Konsistenz und Vorhersehbarkeit der KI-Antworten beeinflussen. Eine niedrigere Temperatur führt dazu, dass die KI eher Wörter wählt, die wahrscheinlicher sind, und die Antworten beim gleichen Prompt sich ähnlich sind. Näheres dazu wird in der MUCGPT_temperature.ipynb Datei erläutert."
   ]
  },
  {
   "cell_type": "code",
   "execution_count": 3,
   "metadata": {},
   "outputs": [],
   "source": [
    "response = client.chat.completions.create(\n",
    "  model=\"chat\", # 'Chat' ist das zugehörige Deployment bei Azure, dahinter liegt gpt-3.5-turbo.\n",
    "  messages=[\n",
    "    {\"role\": \"system\", \"content\": \"Du bist ein Experte für Baustoffkunde.\"}, # Anweisung an das Sprachmodell, optional\n",
    "    {\"role\": \"user\", \"content\": \"Was sind die Bestandteile von Beton?\"} # Frage von Nutzer an das Sprachmodell\n",
    "  ], \n",
    "  temperature=1 # Steuerung der Kreativität\n",
    ")"
   ]
  },
  {
   "cell_type": "code",
   "execution_count": 4,
   "metadata": {},
   "outputs": [
    {
     "name": "stdout",
     "output_type": "stream",
     "text": [
      "Beton besteht aus Zement, Gesteinskörnungen wie Sand und Kies, Wasser und gegebenenfalls Zusatzstoffen wie zum Beispiel Betonzusatzmitteln oder Zusätzen zur Verbesserung der Verarbeitbarkeit oder der Festigkeit. Der Zement dient als Bindemittel und reagiert chemisch mit dem Wasser, wodurch eine feste und stabile Struktur entsteht. Die Gesteinskörnungen dienen als Füllstoffe und geben dem Beton Festigkeit. Zusatzstoffe können je nach Anforderung des Bauprojekts hinzugefügt werden.\n"
     ]
    }
   ],
   "source": [
    "print(response.choices[0].message.content) # Ausgabe der Antwort des Chatmodells"
   ]
  },
  {
   "cell_type": "markdown",
   "metadata": {},
   "source": [
    "#### Importieren der .txt-Datei mit Fragen"
   ]
  },
  {
   "cell_type": "code",
   "execution_count": 5,
   "metadata": {},
   "outputs": [
    {
     "name": "stdout",
     "output_type": "stream",
     "text": [
      "['Wie viel wiegt 1m³ Beton?\\n', 'Gibt es klimaneutrale Baustoffe?\\n', 'Welche Eigenschaften hat Asphalt?\\n', 'Wie wird ein Ziegelstein hergestellt?\\n', 'Kann man eine Straße aus Beton bauen?\\n', 'Aus welchem Baustoff bestehen Brücken?\\n', 'Wie sieht die Rezyklierbarkeit von Beton aus?\\n', 'Ist Stahl ein guter Baustoff für U-Bahngleise?\\n', 'Ist es möglich, ein Haus aus dem Baustoff Holz zu bauen?\\n', 'Welches Material wird für den Einsatz in Hochbauten eingesetzt?']\n"
     ]
    }
   ],
   "source": [
    "with open(\"Fragen.txt\") as datei:\n",
    "    fragen = datei.readlines() # In der txt.-Datei sollen alle Zeilen gelesen werden.\n",
    "\n",
    "print(fragen) # Ausgabe der Fragen"
   ]
  },
  {
   "cell_type": "markdown",
   "metadata": {},
   "source": [
    "Formatierung der Ausgabe"
   ]
  },
  {
   "cell_type": "code",
   "execution_count": 6,
   "metadata": {},
   "outputs": [
    {
     "name": "stdout",
     "output_type": "stream",
     "text": [
      "['Wie viel wiegt 1m³ Beton?', 'Gibt es klimaneutrale Baustoffe?', 'Welche Eigenschaften hat Asphalt?', 'Wie wird ein Ziegelstein hergestellt?', 'Kann man eine Straße aus Beton bauen?', 'Aus welchem Baustoff bestehen Brücken?', 'Wie sieht die Rezyklierbarkeit von Beton aus?', 'Ist Stahl ein guter Baustoff für U-Bahngleise?', 'Ist es möglich, ein Haus aus dem Baustoff Holz zu bauen?', 'Welches Material wird für den Einsatz in Hochbauten eingesetzt?']\n"
     ]
    }
   ],
   "source": [
    "fragen = [line.rstrip() for line in fragen] # .rstrip entfernt Zeilenumbürche (/n), https://statistikguru.de/python/python-zeilenweise-lesen.html\n",
    "print(fragen)"
   ]
  },
  {
   "cell_type": "markdown",
   "metadata": {},
   "source": [
    "#### Erstellen von Funktion und Liste zum auslesen der Fragen und Antworten"
   ]
  },
  {
   "cell_type": "code",
   "execution_count": 7,
   "metadata": {},
   "outputs": [],
   "source": [
    "def frage_gpt(text, temp=0): # Definieren der Funktion frage_gpt und Übergabe der Eingabewerte. 'text'fungiert als Platzhalter, Temperature wird auf 0 festgelegt.\n",
    "    response = client.chat.completions.create(\n",
    "        model=\"chat\",\n",
    "        messages=[\n",
    "            {\"role\": \"system\", \"content\": \"Du bist ein Experte für Baustoffkunde.\"}, # Amweisung an das Sprachmodell, das dieses ein Experte für Baustoffkunde ist.\n",
    "            {\"role\": \"user\", \"content\": text}\n",
    "        ], \n",
    "        temperature=temp\n",
    "    )\n",
    "    return response.choices[0].message.content"
   ]
  },
  {
   "cell_type": "code",
   "execution_count": 8,
   "metadata": {},
   "outputs": [
    {
     "name": "stdout",
     "output_type": "stream",
     "text": [
      "Frage: Wie viel wiegt 1m³ Beton?\n",
      "Antwort: Das Gewicht von 1m³ Beton hängt von der Dichte des Betons ab, die wiederum von den verwendeten Materialien und deren Mischungsverhältnis abhängt. In der Regel wiegt 1m³ Normalbeton (mit einer Dichte von etwa 2,3 t/m³) etwa 2.300 kg oder 2,3 Tonnen. Allerdings kann das Gewicht je nach Art des Betons und der verwendeten Zuschlagsstoffe variieren.\n",
      "\n",
      "\n",
      "Frage: Gibt es klimaneutrale Baustoffe?\n",
      "Antwort: Ja, es gibt Baustoffe, die als klimaneutral gelten können. Ein Beispiel dafür sind Baustoffe aus nachwachsenden Rohstoffen wie Holz, Stroh oder Hanf. Diese Materialien binden während ihres Wachstums CO2 und setzen es bei der Verbrennung oder dem Verrotten wieder frei. Wenn sie als Baustoffe verwendet werden, bleibt das CO2 langfristig gebunden und trägt somit nicht zum Klimawandel bei.\n",
      "\n",
      "Auch mineralische Baustoffe wie Beton oder Ziegel können klimaneutral sein, wenn sie aus recycelten Materialien hergestellt werden oder wenn bei ihrer Herstellung CO2-neutraler Zement verwendet wird.\n",
      "\n",
      "Es ist jedoch wichtig zu beachten, dass die Klimaneutralität eines Baustoffs nicht nur von seiner Herstellung, sondern auch von seiner Lebensdauer und Entsorgung abhängt. Ein langlebiger Baustoff, der wenig Wartung benötigt und am Ende seines Lebens recycelt werden kann, ist in der Regel klimafreundlicher als ein kurzlebiger Baustoff, der schnell ersetzt werden muss.\n",
      "\n",
      "\n",
      "Frage: Welche Eigenschaften hat Asphalt?\n",
      "Antwort: Asphalt ist ein viskoelastischer Baustoff, der aus einer Mischung von Bitumen und Gesteinskörnungen besteht. Es hat folgende Eigenschaften:\n",
      "\n",
      "- Hohe Tragfähigkeit: Asphalt ist ein sehr stabiler Baustoff und kann hohe Lasten tragen.\n",
      "- Wasserundurchlässigkeit: Asphalt ist wasserabweisend und kann als Abdichtungsschicht verwendet werden.\n",
      "- Flexibilität: Asphalt ist viskoelastisch und kann sich bei Temperaturschwankungen ausdehnen und zusammenziehen, ohne zu brechen.\n",
      "- Gute Griffigkeit: Asphalt bietet eine gute Griffigkeit für Fahrzeuge und Fußgänger, insbesondere bei nassen Bedingungen.\n",
      "- Langlebigkeit: Asphalt ist ein langlebiger Baustoff und kann je nach Beanspruchung und Wartung bis zu 20 Jahre halten.\n",
      "\n",
      "Diese Eigenschaften machen Asphalt zu einem beliebten Baustoff für Straßen, Parkplätze, Flughäfen und andere Verkehrsflächen.\n",
      "\n",
      "\n",
      "Frage: Wie wird ein Ziegelstein hergestellt?\n",
      "Antwort: Ein Ziegelstein wird aus Ton hergestellt. Der Ton wird zunächst in einer Mühle zerkleinert und dann mit Wasser zu einer homogenen Masse vermischt. Anschließend wird die Masse in eine Form gepresst, die die gewünschte Größe und Form des Ziegelsteins hat. Die Form wird dann aus der Masse entfernt und der Ziegelstein wird getrocknet. Danach wird er bei hohen Temperaturen in einem Ofen gebrannt, um ihn zu härten und seine endgültige Festigkeit zu erreichen. Der Ziegelstein kann dann weiterverarbeitet werden, indem er beispielsweise gestrichen oder glasiert wird.\n",
      "\n",
      "\n",
      "Frage: Kann man eine Straße aus Beton bauen?\n",
      "Antwort: Ja, Straßen aus Beton sind eine gängige Bauweise. Betonstraßen haben den Vorteil, dass sie sehr langlebig und widerstandsfähig sind. Sie können auch sehr schnell gebaut werden, da Beton schnell aushärtet. Betonstraßen sind auch wartungsarm und können leicht gereinigt werden. Allerdings sind sie in der Regel teurer als Asphaltstraßen und können bei extremen Temperaturen Risse bekommen.\n",
      "\n",
      "\n",
      "Frage: Aus welchem Baustoff bestehen Brücken?\n",
      "Antwort: Brücken können aus verschiedenen Baustoffen gebaut werden, je nach den Anforderungen an die Brücke und den verfügbaren Ressourcen. Die häufigsten Baustoffe für Brücken sind Stahl, Beton und Holz. Stahlbrücken sind in der Regel sehr stark und langlebig, aber auch teuer. Betonbrücken sind ebenfalls sehr stark und langlebig, aber sie erfordern eine sorgfältige Planung und Konstruktion, um sicherzustellen, dass sie den Belastungen standhalten können. Holzbrücken sind in der Regel kostengünstiger als Stahl- oder Betonbrücken, aber sie erfordern regelmäßige Wartung und können anfälliger für Schäden durch Witterungseinflüsse sein. In einigen Fällen können Brücken auch aus Kombinationen dieser Materialien gebaut werden, um die Vorteile jedes Materials zu nutzen.\n",
      "\n",
      "\n",
      "Frage: Wie sieht die Rezyklierbarkeit von Beton aus?\n",
      "Antwort: Beton ist ein Baustoff, der aus Zement, Sand, Kies und Wasser hergestellt wird. Die Rezyklierbarkeit von Beton hängt von verschiedenen Faktoren ab, wie zum Beispiel der Art des Betons, der Art der Zuschlagsstoffe und der Art der Bindemittel.\n",
      "\n",
      "Grundsätzlich kann Beton recycelt werden, indem er zerkleinert und als Zuschlagsstoff für neuen Beton verwendet wird. Dies wird als Betonrecycling bezeichnet. Dabei können bis zu 100% der Betonreste wiederverwendet werden.\n",
      "\n",
      "Allerdings gibt es auch einige Herausforderungen beim Betonrecycling. Zum Beispiel können Betonreste mit anderen Materialien wie Holz, Metall oder Kunststoffen verunreinigt sein, was die Wiederverwendung erschwert. Auch die Qualität des recycelten Betons kann beeinträchtigt sein, wenn die Zuschlagsstoffe nicht richtig sortiert oder gereinigt werden.\n",
      "\n",
      "Insgesamt ist die Rezyklierbarkeit von Beton jedoch eine wichtige Möglichkeit, um Ressourcen zu schonen und Abfall zu reduzieren. Es ist daher wichtig, dass bei der Herstellung und Verwendung von Beton auch die Möglichkeiten des Recyclings berücksichtigt werden.\n",
      "\n",
      "\n",
      "Frage: Ist Stahl ein guter Baustoff für U-Bahngleise?\n",
      "Antwort: Ja, Stahl ist ein sehr guter Baustoff für U-Bahngleise. Stahl ist sehr robust und widerstandsfähig gegenüber hohen Belastungen und Erschütterungen, die bei der Nutzung von U-Bahnen auftreten können. Zudem ist Stahl sehr langlebig und kann auch bei extremen Witterungsbedingungen eingesetzt werden. Darüber hinaus ist Stahl auch sehr flexibel und kann sich den unterschiedlichen Gegebenheiten und Anforderungen anpassen. Aus diesen Gründen wird Stahl häufig für den Bau von U-Bahngleisen verwendet.\n",
      "\n",
      "\n",
      "Frage: Ist es möglich, ein Haus aus dem Baustoff Holz zu bauen?\n",
      "Antwort: Ja, es ist möglich, ein Haus aus Holz zu bauen. In der Tat ist Holz ein sehr beliebter Baustoff für den Hausbau, insbesondere in Ländern mit reichlichem Holzvorkommen wie Skandinavien, Kanada und den USA. Holz ist ein nachhaltiger und erneuerbarer Baustoff, der eine hohe Festigkeit und Haltbarkeit aufweist. Es ist auch ein sehr vielseitiger Baustoff, der für verschiedene Arten von Konstruktionen verwendet werden kann, von traditionellen Blockhäusern bis hin zu modernen Holzrahmenhäusern. Holzhäuser haben auch den Vorteil, dass sie eine natürliche Wärmedämmung bieten und somit energieeffizient sind.\n",
      "\n",
      "\n",
      "Frage: Welches Material wird für den Einsatz in Hochbauten eingesetzt?\n",
      "Antwort: Es gibt viele Materialien, die für den Einsatz in Hochbauten verwendet werden können. Die am häufigsten verwendeten Materialien sind jedoch Beton, Stahl und Mauerwerk.\n",
      "\n",
      "Beton ist ein sehr vielseitiges Material, das für viele verschiedene Anwendungen in Hochbauten verwendet werden kann. Es ist sehr stark und langlebig und kann in fast jeder Form gegossen werden. Beton wird oft für Fundamente, Wände, Decken und Treppen verwendet.\n",
      "\n",
      "Stahl ist ein weiteres häufig verwendetes Material in Hochbauten. Es ist sehr stark und langlebig und kann in vielen verschiedenen Formen und Größen hergestellt werden. Stahl wird oft für Träger, Säulen, Rahmen und Dachkonstruktionen verwendet.\n",
      "\n",
      "Mauerwerk ist ein traditionelles Baumaterial, das aus Ziegeln oder Steinen hergestellt wird. Es ist sehr langlebig und kann in vielen verschiedenen Formen und Größen hergestellt werden. Mauerwerk wird oft für Wände, Fundamente und Kamine verwendet.\n",
      "\n",
      "Es gibt auch viele andere Materialien, die in Hochbauten verwendet werden können, wie zum Beispiel Holz, Glas und Kunststoffe. Die Wahl des Materials hängt von vielen Faktoren ab, wie zum Beispiel der Art des Gebäudes, dem Budget und den Anforderungen an die Haltbarkeit und Ästhetik.\n",
      "\n",
      "\n"
     ]
    }
   ],
   "source": [
    "import os\n",
    "os.remove('Ausgabe_Allg.txt') # Öffnen der Datei Ausgabe_Allg.txt, um die Fragen und Antworten in dieser Datei auszugeben.\n",
    "\n",
    "antworten = [] # Erstellen einer Liste für die Ausgabe der Antworten.\n",
    "\n",
    "file = open('Ausgabe_Allg.txt', 'a')\n",
    "for frage in fragen: # Schleife, um alle Fragen aus der Liste abzuarbeiten und die entsprechende Antwort des Chatmodells mit abzufragen.\n",
    "    antwort = frage_gpt(frage)\n",
    "    antworten.append(antwort) # Liste mit Antworten auffüllen, und speichern im Dataframe. Wichtig für Ausgabe als Excel-Datei.\n",
    "    output_text = \"Frage: {}\\nAntwort: {}\\n\\n\".format(frage, antwort) # Formatierung der Antwortausgabe.\n",
    "    file.write(output_text) # Übergabe der Antwort an die .txt-Ausgabedatei.\n",
    "    print(output_text)\n",
    "\n",
    "file.close()"
   ]
  },
  {
   "cell_type": "markdown",
   "metadata": {},
   "source": [
    "#### Installation der Bibliothek Pandas und Ausgabe als Excel-Datei"
   ]
  },
  {
   "cell_type": "code",
   "execution_count": 9,
   "metadata": {},
   "outputs": [
    {
     "name": "stdout",
     "output_type": "stream",
     "text": [
      "Requirement already satisfied: pandas in /opt/conda/lib/python3.10/site-packages (1.5.0)\n",
      "Requirement already satisfied: python-dateutil>=2.8.1 in /opt/conda/lib/python3.10/site-packages (from pandas) (2.8.2)\n",
      "Requirement already satisfied: pytz>=2020.1 in /opt/conda/lib/python3.10/site-packages (from pandas) (2022.4)\n",
      "Requirement already satisfied: numpy>=1.21.0 in /opt/conda/lib/python3.10/site-packages (from pandas) (1.23.3)\n",
      "Requirement already satisfied: six>=1.5 in /opt/conda/lib/python3.10/site-packages (from python-dateutil>=2.8.1->pandas) (1.16.0)\n",
      "Note: you may need to restart the kernel to use updated packages.\n"
     ]
    }
   ],
   "source": [
    "pip install pandas"
   ]
  },
  {
   "cell_type": "code",
   "execution_count": 10,
   "metadata": {},
   "outputs": [
    {
     "data": {
      "text/html": [
       "<div>\n",
       "<style scoped>\n",
       "    .dataframe tbody tr th:only-of-type {\n",
       "        vertical-align: middle;\n",
       "    }\n",
       "\n",
       "    .dataframe tbody tr th {\n",
       "        vertical-align: top;\n",
       "    }\n",
       "\n",
       "    .dataframe thead th {\n",
       "        text-align: right;\n",
       "    }\n",
       "</style>\n",
       "<table border=\"1\" class=\"dataframe\">\n",
       "  <thead>\n",
       "    <tr style=\"text-align: right;\">\n",
       "      <th></th>\n",
       "      <th>Frage</th>\n",
       "      <th>Antwort</th>\n",
       "    </tr>\n",
       "  </thead>\n",
       "  <tbody>\n",
       "    <tr>\n",
       "      <th>0</th>\n",
       "      <td>Wie viel wiegt 1m³ Beton?</td>\n",
       "      <td>Das Gewicht von 1m³ Beton hängt von der Dichte...</td>\n",
       "    </tr>\n",
       "    <tr>\n",
       "      <th>1</th>\n",
       "      <td>Gibt es klimaneutrale Baustoffe?</td>\n",
       "      <td>Ja, es gibt Baustoffe, die als klimaneutral ge...</td>\n",
       "    </tr>\n",
       "    <tr>\n",
       "      <th>2</th>\n",
       "      <td>Welche Eigenschaften hat Asphalt?</td>\n",
       "      <td>Asphalt ist ein viskoelastischer Baustoff, der...</td>\n",
       "    </tr>\n",
       "    <tr>\n",
       "      <th>3</th>\n",
       "      <td>Wie wird ein Ziegelstein hergestellt?</td>\n",
       "      <td>Ein Ziegelstein wird aus Ton hergestellt. Der ...</td>\n",
       "    </tr>\n",
       "    <tr>\n",
       "      <th>4</th>\n",
       "      <td>Kann man eine Straße aus Beton bauen?</td>\n",
       "      <td>Ja, Straßen aus Beton sind eine gängige Bauwei...</td>\n",
       "    </tr>\n",
       "    <tr>\n",
       "      <th>5</th>\n",
       "      <td>Aus welchem Baustoff bestehen Brücken?</td>\n",
       "      <td>Brücken können aus verschiedenen Baustoffen ge...</td>\n",
       "    </tr>\n",
       "    <tr>\n",
       "      <th>6</th>\n",
       "      <td>Wie sieht die Rezyklierbarkeit von Beton aus?</td>\n",
       "      <td>Beton ist ein Baustoff, der aus Zement, Sand, ...</td>\n",
       "    </tr>\n",
       "    <tr>\n",
       "      <th>7</th>\n",
       "      <td>Ist Stahl ein guter Baustoff für U-Bahngleise?</td>\n",
       "      <td>Ja, Stahl ist ein sehr guter Baustoff für U-Ba...</td>\n",
       "    </tr>\n",
       "    <tr>\n",
       "      <th>8</th>\n",
       "      <td>Ist es möglich, ein Haus aus dem Baustoff Holz...</td>\n",
       "      <td>Ja, es ist möglich, ein Haus aus Holz zu bauen...</td>\n",
       "    </tr>\n",
       "    <tr>\n",
       "      <th>9</th>\n",
       "      <td>Welches Material wird für den Einsatz in Hochb...</td>\n",
       "      <td>Es gibt viele Materialien, die für den Einsatz...</td>\n",
       "    </tr>\n",
       "  </tbody>\n",
       "</table>\n",
       "</div>"
      ],
      "text/plain": [
       "                                               Frage  \\\n",
       "0                          Wie viel wiegt 1m³ Beton?   \n",
       "1                   Gibt es klimaneutrale Baustoffe?   \n",
       "2                  Welche Eigenschaften hat Asphalt?   \n",
       "3              Wie wird ein Ziegelstein hergestellt?   \n",
       "4              Kann man eine Straße aus Beton bauen?   \n",
       "5             Aus welchem Baustoff bestehen Brücken?   \n",
       "6      Wie sieht die Rezyklierbarkeit von Beton aus?   \n",
       "7     Ist Stahl ein guter Baustoff für U-Bahngleise?   \n",
       "8  Ist es möglich, ein Haus aus dem Baustoff Holz...   \n",
       "9  Welches Material wird für den Einsatz in Hochb...   \n",
       "\n",
       "                                             Antwort  \n",
       "0  Das Gewicht von 1m³ Beton hängt von der Dichte...  \n",
       "1  Ja, es gibt Baustoffe, die als klimaneutral ge...  \n",
       "2  Asphalt ist ein viskoelastischer Baustoff, der...  \n",
       "3  Ein Ziegelstein wird aus Ton hergestellt. Der ...  \n",
       "4  Ja, Straßen aus Beton sind eine gängige Bauwei...  \n",
       "5  Brücken können aus verschiedenen Baustoffen ge...  \n",
       "6  Beton ist ein Baustoff, der aus Zement, Sand, ...  \n",
       "7  Ja, Stahl ist ein sehr guter Baustoff für U-Ba...  \n",
       "8  Ja, es ist möglich, ein Haus aus Holz zu bauen...  \n",
       "9  Es gibt viele Materialien, die für den Einsatz...  "
      ]
     },
     "execution_count": 10,
     "metadata": {},
     "output_type": "execute_result"
    }
   ],
   "source": [
    "import pandas as pd # Ausgabe der Werte im Tabellenformat: https://pandas.pydata.org/docs/getting_started/intro_tutorials/01_table_oriented.html#min-tut-01-tableoriented\n",
    "\n",
    "df = pd.DataFrame(\n",
    "    { \n",
    "        \"Frage\": fragen,\n",
    "        \"Antwort\": antworten\n",
    "    }\n",
    ")\n",
    "df # Tatsächlicher Ausgabebegriff"
   ]
  },
  {
   "cell_type": "code",
   "execution_count": 11,
   "metadata": {},
   "outputs": [],
   "source": [
    "df.to_excel(\"F&A.xlsx\") # Ausgabe der Tabelle im Excel-Format."
   ]
  }
 ],
 "metadata": {
  "kernelspec": {
   "display_name": "Python 3 (ipykernel)",
   "language": "python",
   "name": "python3"
  },
  "language_info": {
   "codemirror_mode": {
    "name": "ipython",
    "version": 3
   },
   "file_extension": ".py",
   "mimetype": "text/x-python",
   "name": "python",
   "nbconvert_exporter": "python",
   "pygments_lexer": "ipython3",
   "version": "3.10.6"
  },
  "vscode": {
   "interpreter": {
    "hash": "d4d1e4263499bec80672ea0156c357c1ee493ec2b1c70f0acce89fc37c4a6abe"
   }
  }
 },
 "nbformat": 4,
 "nbformat_minor": 4
}
